{
 "cells": [
  {
   "cell_type": "code",
   "execution_count": 2,
   "id": "aef3a317",
   "metadata": {},
   "outputs": [],
   "source": [
    "import pandas as pd\n",
    "import numpy as np \n",
    "import matplotlib.pyplot as plt\n",
    "import seaborn as sns"
   ]
  },
  {
   "cell_type": "code",
   "execution_count": 3,
   "id": "9193d2c1",
   "metadata": {},
   "outputs": [
    {
     "data": {
      "text/plain": [
       "<bound method NDFrame.head of          0       1       2       3       4       5       6       7       8   \\\n",
       "0    0.0200  0.0371  0.0428  0.0207  0.0954  0.0986  0.1539  0.1601  0.3109   \n",
       "1    0.0453  0.0523  0.0843  0.0689  0.1183  0.2583  0.2156  0.3481  0.3337   \n",
       "2    0.0262  0.0582  0.1099  0.1083  0.0974  0.2280  0.2431  0.3771  0.5598   \n",
       "3    0.0100  0.0171  0.0623  0.0205  0.0205  0.0368  0.1098  0.1276  0.0598   \n",
       "4    0.0762  0.0666  0.0481  0.0394  0.0590  0.0649  0.1209  0.2467  0.3564   \n",
       "..      ...     ...     ...     ...     ...     ...     ...     ...     ...   \n",
       "203  0.0187  0.0346  0.0168  0.0177  0.0393  0.1630  0.2028  0.1694  0.2328   \n",
       "204  0.0323  0.0101  0.0298  0.0564  0.0760  0.0958  0.0990  0.1018  0.1030   \n",
       "205  0.0522  0.0437  0.0180  0.0292  0.0351  0.1171  0.1257  0.1178  0.1258   \n",
       "206  0.0303  0.0353  0.0490  0.0608  0.0167  0.1354  0.1465  0.1123  0.1945   \n",
       "207  0.0260  0.0363  0.0136  0.0272  0.0214  0.0338  0.0655  0.1400  0.1843   \n",
       "\n",
       "         9   ...      51      52      53      54      55      56      57  \\\n",
       "0    0.2111  ...  0.0027  0.0065  0.0159  0.0072  0.0167  0.0180  0.0084   \n",
       "1    0.2872  ...  0.0084  0.0089  0.0048  0.0094  0.0191  0.0140  0.0049   \n",
       "2    0.6194  ...  0.0232  0.0166  0.0095  0.0180  0.0244  0.0316  0.0164   \n",
       "3    0.1264  ...  0.0121  0.0036  0.0150  0.0085  0.0073  0.0050  0.0044   \n",
       "4    0.4459  ...  0.0031  0.0054  0.0105  0.0110  0.0015  0.0072  0.0048   \n",
       "..      ...  ...     ...     ...     ...     ...     ...     ...     ...   \n",
       "203  0.2684  ...  0.0116  0.0098  0.0199  0.0033  0.0101  0.0065  0.0115   \n",
       "204  0.2154  ...  0.0061  0.0093  0.0135  0.0063  0.0063  0.0034  0.0032   \n",
       "205  0.2529  ...  0.0160  0.0029  0.0051  0.0062  0.0089  0.0140  0.0138   \n",
       "206  0.2354  ...  0.0086  0.0046  0.0126  0.0036  0.0035  0.0034  0.0079   \n",
       "207  0.2354  ...  0.0146  0.0129  0.0047  0.0039  0.0061  0.0040  0.0036   \n",
       "\n",
       "         58      59  60  \n",
       "0    0.0090  0.0032   R  \n",
       "1    0.0052  0.0044   R  \n",
       "2    0.0095  0.0078   R  \n",
       "3    0.0040  0.0117   R  \n",
       "4    0.0107  0.0094   R  \n",
       "..      ...     ...  ..  \n",
       "203  0.0193  0.0157   M  \n",
       "204  0.0062  0.0067   M  \n",
       "205  0.0077  0.0031   M  \n",
       "206  0.0036  0.0048   M  \n",
       "207  0.0061  0.0115   M  \n",
       "\n",
       "[208 rows x 61 columns]>"
      ]
     },
     "execution_count": 3,
     "metadata": {},
     "output_type": "execute_result"
    }
   ],
   "source": [
    "df=pd.read_csv('sonar_dataset.csv',header=None)\n",
    "df.head"
   ]
  },
  {
   "cell_type": "code",
   "execution_count": 4,
   "id": "096d9f6e",
   "metadata": {},
   "outputs": [
    {
     "data": {
      "text/plain": [
       "(208, 61)"
      ]
     },
     "execution_count": 4,
     "metadata": {},
     "output_type": "execute_result"
    }
   ],
   "source": [
    "df.shape\n"
   ]
  },
  {
   "cell_type": "code",
   "execution_count": 10,
   "id": "36446dae",
   "metadata": {},
   "outputs": [
    {
     "data": {
      "text/plain": [
       "0     0\n",
       "1     0\n",
       "2     0\n",
       "3     0\n",
       "4     0\n",
       "     ..\n",
       "56    0\n",
       "57    0\n",
       "58    0\n",
       "59    0\n",
       "60    0\n",
       "Length: 61, dtype: int64"
      ]
     },
     "execution_count": 10,
     "metadata": {},
     "output_type": "execute_result"
    }
   ],
   "source": [
    "df.isna().sum()"
   ]
  },
  {
   "cell_type": "code",
   "execution_count": 13,
   "id": "374ccb0c",
   "metadata": {},
   "outputs": [
    {
     "data": {
      "text/plain": [
       "Int64Index([ 0,  1,  2,  3,  4,  5,  6,  7,  8,  9, 10, 11, 12, 13, 14, 15, 16,\n",
       "            17, 18, 19, 20, 21, 22, 23, 24, 25, 26, 27, 28, 29, 30, 31, 32, 33,\n",
       "            34, 35, 36, 37, 38, 39, 40, 41, 42, 43, 44, 45, 46, 47, 48, 49, 50,\n",
       "            51, 52, 53, 54, 55, 56, 57, 58, 59, 60],\n",
       "           dtype='int64')"
      ]
     },
     "execution_count": 13,
     "metadata": {},
     "output_type": "execute_result"
    }
   ],
   "source": [
    "df.columns\n",
    "\n"
   ]
  },
  {
   "cell_type": "code",
   "execution_count": 24,
   "id": "a0c8e393",
   "metadata": {},
   "outputs": [
    {
     "data": {
      "text/plain": [
       "M    111\n",
       "R     97\n",
       "Name: 60, dtype: int64"
      ]
     },
     "execution_count": 24,
     "metadata": {},
     "output_type": "execute_result"
    }
   ],
   "source": [
    "df[60].value_counts()"
   ]
  },
  {
   "cell_type": "code",
   "execution_count": 27,
   "id": "3d7811b2",
   "metadata": {},
   "outputs": [
    {
     "data": {
      "text/plain": [
       "0    R\n",
       "1    R\n",
       "2    R\n",
       "3    R\n",
       "4    R\n",
       "Name: 60, dtype: object"
      ]
     },
     "execution_count": 27,
     "metadata": {},
     "output_type": "execute_result"
    }
   ],
   "source": [
    "x=df.drop(60,axis=1)\n",
    "y=df[60]\n",
    "y.head()"
   ]
  },
  {
   "cell_type": "code",
   "execution_count": 31,
   "id": "dbdb9e3d",
   "metadata": {},
   "outputs": [
    {
     "data": {
      "text/html": [
       "<div>\n",
       "<style scoped>\n",
       "    .dataframe tbody tr th:only-of-type {\n",
       "        vertical-align: middle;\n",
       "    }\n",
       "\n",
       "    .dataframe tbody tr th {\n",
       "        vertical-align: top;\n",
       "    }\n",
       "\n",
       "    .dataframe thead th {\n",
       "        text-align: right;\n",
       "    }\n",
       "</style>\n",
       "<table border=\"1\" class=\"dataframe\">\n",
       "  <thead>\n",
       "    <tr style=\"text-align: right;\">\n",
       "      <th></th>\n",
       "      <th>R</th>\n",
       "    </tr>\n",
       "  </thead>\n",
       "  <tbody>\n",
       "    <tr>\n",
       "      <th>164</th>\n",
       "      <td>0</td>\n",
       "    </tr>\n",
       "    <tr>\n",
       "      <th>184</th>\n",
       "      <td>0</td>\n",
       "    </tr>\n",
       "    <tr>\n",
       "      <th>139</th>\n",
       "      <td>0</td>\n",
       "    </tr>\n",
       "    <tr>\n",
       "      <th>180</th>\n",
       "      <td>0</td>\n",
       "    </tr>\n",
       "    <tr>\n",
       "      <th>119</th>\n",
       "      <td>0</td>\n",
       "    </tr>\n",
       "  </tbody>\n",
       "</table>\n",
       "</div>"
      ],
      "text/plain": [
       "     R\n",
       "164  0\n",
       "184  0\n",
       "139  0\n",
       "180  0\n",
       "119  0"
      ]
     },
     "execution_count": 31,
     "metadata": {},
     "output_type": "execute_result"
    }
   ],
   "source": [
    "y=pd.get_dummies(y,drop_first=True)\n",
    "y.sample(5) #R-->1"
   ]
  },
  {
   "cell_type": "code",
   "execution_count": 34,
   "id": "45fcf5c9",
   "metadata": {},
   "outputs": [
    {
     "data": {
      "text/plain": [
       "R\n",
       "0    111\n",
       "1     97\n",
       "dtype: int64"
      ]
     },
     "execution_count": 34,
     "metadata": {},
     "output_type": "execute_result"
    }
   ],
   "source": [
    "y.value_counts()"
   ]
  },
  {
   "cell_type": "code",
   "execution_count": 37,
   "id": "0a11f0e9",
   "metadata": {},
   "outputs": [],
   "source": [
    "from sklearn.model_selection import train_test_split\n",
    "X_train,X_test,Y_train,Y_test=train_test_split(x,y,test_size=0.25,random_state=1)"
   ]
  },
  {
   "cell_type": "code",
   "execution_count": 39,
   "id": "7c4c7a4e",
   "metadata": {},
   "outputs": [],
   "source": [
    "import tensorflow as tf\n",
    "from tensorflow import keras "
   ]
  },
  {
   "cell_type": "code",
   "execution_count": 95,
   "id": "d652779e",
   "metadata": {},
   "outputs": [
    {
     "name": "stdout",
     "output_type": "stream",
     "text": [
      "Epoch 1/85\n",
      "26/26 [==============================] - 0s 5ms/step - loss: 0.6932 - accuracy: 0.5769\n",
      "Epoch 2/85\n",
      "26/26 [==============================] - 0s 5ms/step - loss: 0.6562 - accuracy: 0.5833\n",
      "Epoch 3/85\n",
      "26/26 [==============================] - 0s 5ms/step - loss: 0.6254 - accuracy: 0.7179\n",
      "Epoch 4/85\n",
      "26/26 [==============================] - 0s 4ms/step - loss: 0.5943 - accuracy: 0.7179\n",
      "Epoch 5/85\n",
      "26/26 [==============================] - 0s 4ms/step - loss: 0.5671 - accuracy: 0.7244\n",
      "Epoch 6/85\n",
      "26/26 [==============================] - 0s 4ms/step - loss: 0.5268 - accuracy: 0.7692\n",
      "Epoch 7/85\n",
      "26/26 [==============================] - 0s 4ms/step - loss: 0.4961 - accuracy: 0.7564\n",
      "Epoch 8/85\n",
      "26/26 [==============================] - 0s 4ms/step - loss: 0.4450 - accuracy: 0.8462\n",
      "Epoch 9/85\n",
      "26/26 [==============================] - 0s 4ms/step - loss: 0.4160 - accuracy: 0.8269\n",
      "Epoch 10/85\n",
      "26/26 [==============================] - 0s 4ms/step - loss: 0.4100 - accuracy: 0.8077\n",
      "Epoch 11/85\n",
      "26/26 [==============================] - 0s 4ms/step - loss: 0.3674 - accuracy: 0.8782\n",
      "Epoch 12/85\n",
      "26/26 [==============================] - 0s 4ms/step - loss: 0.3641 - accuracy: 0.8590\n",
      "Epoch 13/85\n",
      "26/26 [==============================] - 0s 3ms/step - loss: 0.3304 - accuracy: 0.8910\n",
      "Epoch 14/85\n",
      "26/26 [==============================] - 0s 3ms/step - loss: 0.3196 - accuracy: 0.8846\n",
      "Epoch 15/85\n",
      "26/26 [==============================] - 0s 4ms/step - loss: 0.3058 - accuracy: 0.8654\n",
      "Epoch 16/85\n",
      "26/26 [==============================] - 0s 4ms/step - loss: 0.2958 - accuracy: 0.8846\n",
      "Epoch 17/85\n",
      "26/26 [==============================] - 0s 3ms/step - loss: 0.2796 - accuracy: 0.8974\n",
      "Epoch 18/85\n",
      "26/26 [==============================] - 0s 3ms/step - loss: 0.2569 - accuracy: 0.9103\n",
      "Epoch 19/85\n",
      "26/26 [==============================] - 0s 4ms/step - loss: 0.2248 - accuracy: 0.9231\n",
      "Epoch 20/85\n",
      "26/26 [==============================] - 0s 3ms/step - loss: 0.2530 - accuracy: 0.8974\n",
      "Epoch 21/85\n",
      "26/26 [==============================] - 0s 3ms/step - loss: 0.2167 - accuracy: 0.9103\n",
      "Epoch 22/85\n",
      "26/26 [==============================] - 0s 3ms/step - loss: 0.1921 - accuracy: 0.9295\n",
      "Epoch 23/85\n",
      "26/26 [==============================] - 0s 3ms/step - loss: 0.1894 - accuracy: 0.9295\n",
      "Epoch 24/85\n",
      "26/26 [==============================] - 0s 3ms/step - loss: 0.1619 - accuracy: 0.9615\n",
      "Epoch 25/85\n",
      "26/26 [==============================] - 0s 3ms/step - loss: 0.1556 - accuracy: 0.9615\n",
      "Epoch 26/85\n",
      "26/26 [==============================] - 0s 3ms/step - loss: 0.1456 - accuracy: 0.9487\n",
      "Epoch 27/85\n",
      "26/26 [==============================] - 0s 3ms/step - loss: 0.1352 - accuracy: 0.9679\n",
      "Epoch 28/85\n",
      "26/26 [==============================] - 0s 3ms/step - loss: 0.1273 - accuracy: 0.9487\n",
      "Epoch 29/85\n",
      "26/26 [==============================] - 0s 3ms/step - loss: 0.1130 - accuracy: 0.9808\n",
      "Epoch 30/85\n",
      "26/26 [==============================] - 0s 3ms/step - loss: 0.1030 - accuracy: 0.9808\n",
      "Epoch 31/85\n",
      "26/26 [==============================] - 0s 3ms/step - loss: 0.1023 - accuracy: 0.9679\n",
      "Epoch 32/85\n",
      "26/26 [==============================] - 0s 3ms/step - loss: 0.0953 - accuracy: 0.9744\n",
      "Epoch 33/85\n",
      "26/26 [==============================] - 0s 4ms/step - loss: 0.0933 - accuracy: 0.9808\n",
      "Epoch 34/85\n",
      "26/26 [==============================] - 0s 4ms/step - loss: 0.0748 - accuracy: 0.9872\n",
      "Epoch 35/85\n",
      "26/26 [==============================] - 0s 4ms/step - loss: 0.0658 - accuracy: 0.9808\n",
      "Epoch 36/85\n",
      "26/26 [==============================] - 0s 4ms/step - loss: 0.0674 - accuracy: 0.9936\n",
      "Epoch 37/85\n",
      "26/26 [==============================] - 0s 4ms/step - loss: 0.0844 - accuracy: 0.9744\n",
      "Epoch 38/85\n",
      "26/26 [==============================] - 0s 4ms/step - loss: 0.0738 - accuracy: 0.9615\n",
      "Epoch 39/85\n",
      "26/26 [==============================] - 0s 4ms/step - loss: 0.0529 - accuracy: 0.9936\n",
      "Epoch 40/85\n",
      "26/26 [==============================] - 0s 4ms/step - loss: 0.0467 - accuracy: 1.0000\n",
      "Epoch 41/85\n",
      "26/26 [==============================] - 0s 4ms/step - loss: 0.0431 - accuracy: 1.0000\n",
      "Epoch 42/85\n",
      "26/26 [==============================] - 0s 3ms/step - loss: 0.0325 - accuracy: 1.0000\n",
      "Epoch 43/85\n",
      "26/26 [==============================] - 0s 3ms/step - loss: 0.0393 - accuracy: 0.9936\n",
      "Epoch 44/85\n",
      "26/26 [==============================] - 0s 3ms/step - loss: 0.0311 - accuracy: 1.0000\n",
      "Epoch 45/85\n",
      "26/26 [==============================] - 0s 3ms/step - loss: 0.0239 - accuracy: 1.0000\n",
      "Epoch 46/85\n",
      "26/26 [==============================] - 0s 3ms/step - loss: 0.0227 - accuracy: 1.0000\n",
      "Epoch 47/85\n",
      "26/26 [==============================] - 0s 3ms/step - loss: 0.0202 - accuracy: 1.0000\n",
      "Epoch 48/85\n",
      "26/26 [==============================] - 0s 3ms/step - loss: 0.0230 - accuracy: 1.0000\n",
      "Epoch 49/85\n",
      "26/26 [==============================] - 0s 3ms/step - loss: 0.0193 - accuracy: 1.0000\n",
      "Epoch 50/85\n",
      "26/26 [==============================] - 0s 3ms/step - loss: 0.0154 - accuracy: 1.0000\n",
      "Epoch 51/85\n",
      "26/26 [==============================] - 0s 3ms/step - loss: 0.0128 - accuracy: 1.0000\n",
      "Epoch 52/85\n",
      "26/26 [==============================] - 0s 3ms/step - loss: 0.0151 - accuracy: 1.0000\n",
      "Epoch 53/85\n",
      "26/26 [==============================] - 0s 3ms/step - loss: 0.0140 - accuracy: 1.0000\n",
      "Epoch 54/85\n",
      "26/26 [==============================] - 0s 3ms/step - loss: 0.0128 - accuracy: 1.0000\n",
      "Epoch 55/85\n",
      "26/26 [==============================] - 0s 3ms/step - loss: 0.0098 - accuracy: 1.0000\n",
      "Epoch 56/85\n",
      "26/26 [==============================] - 0s 3ms/step - loss: 0.0091 - accuracy: 1.0000\n",
      "Epoch 57/85\n",
      "26/26 [==============================] - 0s 3ms/step - loss: 0.0122 - accuracy: 1.0000\n",
      "Epoch 58/85\n",
      "26/26 [==============================] - 0s 3ms/step - loss: 0.0109 - accuracy: 1.0000\n",
      "Epoch 59/85\n",
      "26/26 [==============================] - 0s 3ms/step - loss: 0.0074 - accuracy: 1.0000\n",
      "Epoch 60/85\n",
      "26/26 [==============================] - 0s 3ms/step - loss: 0.0070 - accuracy: 1.0000\n",
      "Epoch 61/85\n",
      "26/26 [==============================] - 0s 3ms/step - loss: 0.0074 - accuracy: 1.0000\n",
      "Epoch 62/85\n",
      "26/26 [==============================] - 0s 3ms/step - loss: 0.0069 - accuracy: 1.0000\n",
      "Epoch 63/85\n",
      "26/26 [==============================] - 0s 4ms/step - loss: 0.0056 - accuracy: 1.0000\n",
      "Epoch 64/85\n",
      "26/26 [==============================] - 0s 4ms/step - loss: 0.0048 - accuracy: 1.0000\n",
      "Epoch 65/85\n",
      "26/26 [==============================] - 0s 4ms/step - loss: 0.0052 - accuracy: 1.0000\n",
      "Epoch 66/85\n",
      "26/26 [==============================] - 0s 4ms/step - loss: 0.0048 - accuracy: 1.0000\n",
      "Epoch 67/85\n",
      "26/26 [==============================] - 0s 4ms/step - loss: 0.0050 - accuracy: 1.0000\n",
      "Epoch 68/85\n",
      "26/26 [==============================] - 0s 4ms/step - loss: 0.0040 - accuracy: 1.0000\n",
      "Epoch 69/85\n",
      "26/26 [==============================] - 0s 4ms/step - loss: 0.0034 - accuracy: 1.0000\n",
      "Epoch 70/85\n",
      "26/26 [==============================] - 0s 4ms/step - loss: 0.0035 - accuracy: 1.0000\n",
      "Epoch 71/85\n",
      "26/26 [==============================] - 0s 3ms/step - loss: 0.0032 - accuracy: 1.0000\n",
      "Epoch 72/85\n",
      "26/26 [==============================] - 0s 3ms/step - loss: 0.0040 - accuracy: 1.0000\n",
      "Epoch 73/85\n",
      "26/26 [==============================] - 0s 3ms/step - loss: 0.0033 - accuracy: 1.0000\n",
      "Epoch 74/85\n",
      "26/26 [==============================] - 0s 3ms/step - loss: 0.0034 - accuracy: 1.0000\n",
      "Epoch 75/85\n",
      "26/26 [==============================] - 0s 3ms/step - loss: 0.0031 - accuracy: 1.0000\n",
      "Epoch 76/85\n",
      "26/26 [==============================] - 0s 3ms/step - loss: 0.0024 - accuracy: 1.0000\n",
      "Epoch 77/85\n",
      "26/26 [==============================] - 0s 3ms/step - loss: 0.0026 - accuracy: 1.0000\n",
      "Epoch 78/85\n",
      "26/26 [==============================] - 0s 3ms/step - loss: 0.0024 - accuracy: 1.0000\n",
      "Epoch 79/85\n",
      "26/26 [==============================] - 0s 3ms/step - loss: 0.0024 - accuracy: 1.0000\n",
      "Epoch 80/85\n",
      "26/26 [==============================] - 0s 3ms/step - loss: 0.0021 - accuracy: 1.0000\n",
      "Epoch 81/85\n",
      "26/26 [==============================] - 0s 3ms/step - loss: 0.0019 - accuracy: 1.0000\n",
      "Epoch 82/85\n",
      "26/26 [==============================] - 0s 3ms/step - loss: 0.0019 - accuracy: 1.0000\n",
      "Epoch 83/85\n",
      "26/26 [==============================] - 0s 3ms/step - loss: 0.0019 - accuracy: 1.0000\n",
      "Epoch 84/85\n",
      "26/26 [==============================] - 0s 3ms/step - loss: 0.0017 - accuracy: 1.0000\n",
      "Epoch 85/85\n",
      "26/26 [==============================] - 0s 3ms/step - loss: 0.0018 - accuracy: 1.0000\n"
     ]
    },
    {
     "data": {
      "text/plain": [
       "<tensorflow.python.keras.callbacks.History at 0x1c2660df2e0>"
      ]
     },
     "execution_count": 95,
     "metadata": {},
     "output_type": "execute_result"
    }
   ],
   "source": [
    "model=keras.Sequential([\n",
    "    keras.layers.Dense(60,input_dim=60,activation='relu'),\n",
    "    keras.layers.Dense(30,activation='relu'),\n",
    "    keras.layers.Dense(15,activation='relu'),\n",
    "    keras.layers.Dense(1,activation='sigmoid')\n",
    "])\n",
    "\n",
    "model.compile(loss='binary_crossentropy',optimizer='adam',metrics=['accuracy'])\n",
    "model.fit(X_train,Y_train,epochs=85,batch_size=6)"
   ]
  },
  {
   "cell_type": "code",
   "execution_count": 96,
   "id": "5db9b41c",
   "metadata": {
    "scrolled": true
   },
   "outputs": [
    {
     "name": "stdout",
     "output_type": "stream",
     "text": [
      "2/2 [==============================] - 0s 9ms/step - loss: 0.9732 - accuracy: 0.7500\n"
     ]
    },
    {
     "data": {
      "text/plain": [
       "[0.9731643199920654, 0.75]"
      ]
     },
     "execution_count": 96,
     "metadata": {},
     "output_type": "execute_result"
    }
   ],
   "source": [
    "model.evaluate(X_test,Y_test)"
   ]
  },
  {
   "cell_type": "code",
   "execution_count": 98,
   "id": "32ca0e87",
   "metadata": {},
   "outputs": [],
   "source": [
    "y_pred=model.predict(X_test).reshape(-1)\n",
    "y_pred=np.round(y_pred)"
   ]
  },
  {
   "cell_type": "code",
   "execution_count": 99,
   "id": "54002867",
   "metadata": {},
   "outputs": [
    {
     "data": {
      "text/plain": [
       "array([0., 1., 1., 0., 1., 1., 0., 1., 0., 1.], dtype=float32)"
      ]
     },
     "execution_count": 99,
     "metadata": {},
     "output_type": "execute_result"
    }
   ],
   "source": [
    "y_pred[:10]"
   ]
  },
  {
   "cell_type": "code",
   "execution_count": 100,
   "id": "82b49da1",
   "metadata": {},
   "outputs": [
    {
     "data": {
      "text/html": [
       "<div>\n",
       "<style scoped>\n",
       "    .dataframe tbody tr th:only-of-type {\n",
       "        vertical-align: middle;\n",
       "    }\n",
       "\n",
       "    .dataframe tbody tr th {\n",
       "        vertical-align: top;\n",
       "    }\n",
       "\n",
       "    .dataframe thead th {\n",
       "        text-align: right;\n",
       "    }\n",
       "</style>\n",
       "<table border=\"1\" class=\"dataframe\">\n",
       "  <thead>\n",
       "    <tr style=\"text-align: right;\">\n",
       "      <th></th>\n",
       "      <th>R</th>\n",
       "    </tr>\n",
       "  </thead>\n",
       "  <tbody>\n",
       "    <tr>\n",
       "      <th>186</th>\n",
       "      <td>0</td>\n",
       "    </tr>\n",
       "    <tr>\n",
       "      <th>155</th>\n",
       "      <td>0</td>\n",
       "    </tr>\n",
       "    <tr>\n",
       "      <th>165</th>\n",
       "      <td>0</td>\n",
       "    </tr>\n",
       "    <tr>\n",
       "      <th>200</th>\n",
       "      <td>0</td>\n",
       "    </tr>\n",
       "    <tr>\n",
       "      <th>58</th>\n",
       "      <td>1</td>\n",
       "    </tr>\n",
       "    <tr>\n",
       "      <th>34</th>\n",
       "      <td>1</td>\n",
       "    </tr>\n",
       "    <tr>\n",
       "      <th>151</th>\n",
       "      <td>0</td>\n",
       "    </tr>\n",
       "    <tr>\n",
       "      <th>18</th>\n",
       "      <td>1</td>\n",
       "    </tr>\n",
       "    <tr>\n",
       "      <th>202</th>\n",
       "      <td>0</td>\n",
       "    </tr>\n",
       "    <tr>\n",
       "      <th>62</th>\n",
       "      <td>1</td>\n",
       "    </tr>\n",
       "  </tbody>\n",
       "</table>\n",
       "</div>"
      ],
      "text/plain": [
       "     R\n",
       "186  0\n",
       "155  0\n",
       "165  0\n",
       "200  0\n",
       "58   1\n",
       "34   1\n",
       "151  0\n",
       "18   1\n",
       "202  0\n",
       "62   1"
      ]
     },
     "execution_count": 100,
     "metadata": {},
     "output_type": "execute_result"
    }
   ],
   "source": [
    "Y_test[:10]"
   ]
  },
  {
   "cell_type": "code",
   "execution_count": 65,
   "id": "bbbc74ad",
   "metadata": {},
   "outputs": [
    {
     "name": "stdout",
     "output_type": "stream",
     "text": [
      "              precision    recall  f1-score   support\n",
      "\n",
      "           0       0.76      0.81      0.79        27\n",
      "           1       0.78      0.72      0.75        25\n",
      "\n",
      "    accuracy                           0.77        52\n",
      "   macro avg       0.77      0.77      0.77        52\n",
      "weighted avg       0.77      0.77      0.77        52\n",
      "\n"
     ]
    }
   ],
   "source": [
    "from sklearn.metrics import confusion_matrix,classification_report\n",
    "print(classification_report(Y_test,y_pred))"
   ]
  },
  {
   "cell_type": "code",
   "execution_count": 82,
   "id": "e51e0d96",
   "metadata": {},
   "outputs": [
    {
     "name": "stdout",
     "output_type": "stream",
     "text": [
      "Epoch 1/100\n",
      "26/26 [==============================] - 1s 5ms/step - loss: 0.7612 - accuracy: 0.5000\n",
      "Epoch 2/100\n",
      "26/26 [==============================] - 0s 5ms/step - loss: 0.7439 - accuracy: 0.4872\n",
      "Epoch 3/100\n",
      "26/26 [==============================] - 0s 6ms/step - loss: 0.6998 - accuracy: 0.4936\n",
      "Epoch 4/100\n",
      "26/26 [==============================] - 0s 5ms/step - loss: 0.6793 - accuracy: 0.5449\n",
      "Epoch 5/100\n",
      "26/26 [==============================] - 0s 5ms/step - loss: 0.6819 - accuracy: 0.6282\n",
      "Epoch 6/100\n",
      "26/26 [==============================] - 0s 5ms/step - loss: 0.6895 - accuracy: 0.5449\n",
      "Epoch 7/100\n",
      "26/26 [==============================] - 0s 5ms/step - loss: 0.6747 - accuracy: 0.5962\n",
      "Epoch 8/100\n",
      "26/26 [==============================] - 0s 4ms/step - loss: 0.6886 - accuracy: 0.5641\n",
      "Epoch 9/100\n",
      "26/26 [==============================] - 0s 3ms/step - loss: 0.6915 - accuracy: 0.5705\n",
      "Epoch 10/100\n",
      "26/26 [==============================] - 0s 4ms/step - loss: 0.6737 - accuracy: 0.5833\n",
      "Epoch 11/100\n",
      "26/26 [==============================] - 0s 4ms/step - loss: 0.6648 - accuracy: 0.5833\n",
      "Epoch 12/100\n",
      "26/26 [==============================] - 0s 3ms/step - loss: 0.6722 - accuracy: 0.5833\n",
      "Epoch 13/100\n",
      "26/26 [==============================] - 0s 4ms/step - loss: 0.7002 - accuracy: 0.5385\n",
      "Epoch 14/100\n",
      "26/26 [==============================] - 0s 4ms/step - loss: 0.6565 - accuracy: 0.5897\n",
      "Epoch 15/100\n",
      "26/26 [==============================] - 0s 4ms/step - loss: 0.6833 - accuracy: 0.5769\n",
      "Epoch 16/100\n",
      "26/26 [==============================] - 0s 3ms/step - loss: 0.6644 - accuracy: 0.5897\n",
      "Epoch 17/100\n",
      "26/26 [==============================] - 0s 3ms/step - loss: 0.6940 - accuracy: 0.5513\n",
      "Epoch 18/100\n",
      "26/26 [==============================] - 0s 4ms/step - loss: 0.6673 - accuracy: 0.6410\n",
      "Epoch 19/100\n",
      "26/26 [==============================] - 0s 4ms/step - loss: 0.6622 - accuracy: 0.5385\n",
      "Epoch 20/100\n",
      "26/26 [==============================] - 0s 4ms/step - loss: 0.6540 - accuracy: 0.6026\n",
      "Epoch 21/100\n",
      "26/26 [==============================] - 0s 4ms/step - loss: 0.6474 - accuracy: 0.6090\n",
      "Epoch 22/100\n",
      "26/26 [==============================] - 0s 3ms/step - loss: 0.6603 - accuracy: 0.6090\n",
      "Epoch 23/100\n",
      "26/26 [==============================] - 0s 3ms/step - loss: 0.6263 - accuracy: 0.6795\n",
      "Epoch 24/100\n",
      "26/26 [==============================] - 0s 3ms/step - loss: 0.6324 - accuracy: 0.6218\n",
      "Epoch 25/100\n",
      "26/26 [==============================] - 0s 4ms/step - loss: 0.6172 - accuracy: 0.7115\n",
      "Epoch 26/100\n",
      "26/26 [==============================] - 0s 4ms/step - loss: 0.5878 - accuracy: 0.7115\n",
      "Epoch 27/100\n",
      "26/26 [==============================] - 0s 4ms/step - loss: 0.6202 - accuracy: 0.6795\n",
      "Epoch 28/100\n",
      "26/26 [==============================] - 0s 5ms/step - loss: 0.5952 - accuracy: 0.6731\n",
      "Epoch 29/100\n",
      "26/26 [==============================] - 0s 5ms/step - loss: 0.6066 - accuracy: 0.6474\n",
      "Epoch 30/100\n",
      "26/26 [==============================] - 0s 5ms/step - loss: 0.5996 - accuracy: 0.6859\n",
      "Epoch 31/100\n",
      "26/26 [==============================] - 0s 5ms/step - loss: 0.5875 - accuracy: 0.7244\n",
      "Epoch 32/100\n",
      "26/26 [==============================] - 0s 4ms/step - loss: 0.5906 - accuracy: 0.7564\n",
      "Epoch 33/100\n",
      "26/26 [==============================] - 0s 4ms/step - loss: 0.5707 - accuracy: 0.6987\n",
      "Epoch 34/100\n",
      "26/26 [==============================] - 0s 4ms/step - loss: 0.5600 - accuracy: 0.6859\n",
      "Epoch 35/100\n",
      "26/26 [==============================] - 0s 4ms/step - loss: 0.5538 - accuracy: 0.7436\n",
      "Epoch 36/100\n",
      "26/26 [==============================] - 0s 4ms/step - loss: 0.5354 - accuracy: 0.7692\n",
      "Epoch 37/100\n",
      "26/26 [==============================] - 0s 4ms/step - loss: 0.5475 - accuracy: 0.7244\n",
      "Epoch 38/100\n",
      "26/26 [==============================] - 0s 4ms/step - loss: 0.5406 - accuracy: 0.7244\n",
      "Epoch 39/100\n",
      "26/26 [==============================] - 0s 4ms/step - loss: 0.5321 - accuracy: 0.7628\n",
      "Epoch 40/100\n",
      "26/26 [==============================] - 0s 3ms/step - loss: 0.5026 - accuracy: 0.7564\n",
      "Epoch 41/100\n",
      "26/26 [==============================] - 0s 3ms/step - loss: 0.4796 - accuracy: 0.7756\n",
      "Epoch 42/100\n",
      "26/26 [==============================] - 0s 3ms/step - loss: 0.4853 - accuracy: 0.7692\n",
      "Epoch 43/100\n",
      "26/26 [==============================] - 0s 4ms/step - loss: 0.4600 - accuracy: 0.7692\n",
      "Epoch 44/100\n",
      "26/26 [==============================] - 0s 3ms/step - loss: 0.4398 - accuracy: 0.7885\n",
      "Epoch 45/100\n",
      "26/26 [==============================] - 0s 4ms/step - loss: 0.4344 - accuracy: 0.8205\n",
      "Epoch 46/100\n",
      "26/26 [==============================] - 0s 3ms/step - loss: 0.4973 - accuracy: 0.8269\n",
      "Epoch 47/100\n",
      "26/26 [==============================] - 0s 4ms/step - loss: 0.4483 - accuracy: 0.8013\n",
      "Epoch 48/100\n",
      "26/26 [==============================] - 0s 4ms/step - loss: 0.4305 - accuracy: 0.8205\n",
      "Epoch 49/100\n",
      "26/26 [==============================] - 0s 4ms/step - loss: 0.4265 - accuracy: 0.8269\n",
      "Epoch 50/100\n",
      "26/26 [==============================] - 0s 4ms/step - loss: 0.4412 - accuracy: 0.8526\n",
      "Epoch 51/100\n",
      "26/26 [==============================] - 0s 5ms/step - loss: 0.4563 - accuracy: 0.7885\n",
      "Epoch 52/100\n",
      "26/26 [==============================] - 0s 5ms/step - loss: 0.4625 - accuracy: 0.8013\n",
      "Epoch 53/100\n",
      "26/26 [==============================] - 0s 5ms/step - loss: 0.4195 - accuracy: 0.8077\n",
      "Epoch 54/100\n",
      "26/26 [==============================] - 0s 5ms/step - loss: 0.4063 - accuracy: 0.8077\n",
      "Epoch 55/100\n",
      "26/26 [==============================] - 0s 5ms/step - loss: 0.3725 - accuracy: 0.8526\n",
      "Epoch 56/100\n",
      "26/26 [==============================] - 0s 4ms/step - loss: 0.4019 - accuracy: 0.8718\n",
      "Epoch 57/100\n",
      "26/26 [==============================] - 0s 5ms/step - loss: 0.4266 - accuracy: 0.8013\n",
      "Epoch 58/100\n",
      "26/26 [==============================] - 0s 4ms/step - loss: 0.3679 - accuracy: 0.8526\n",
      "Epoch 59/100\n",
      "26/26 [==============================] - 0s 4ms/step - loss: 0.4001 - accuracy: 0.8397\n",
      "Epoch 60/100\n",
      "26/26 [==============================] - 0s 4ms/step - loss: 0.3528 - accuracy: 0.8269\n",
      "Epoch 61/100\n",
      "26/26 [==============================] - 0s 4ms/step - loss: 0.3903 - accuracy: 0.8526\n",
      "Epoch 62/100\n",
      "26/26 [==============================] - 0s 4ms/step - loss: 0.3518 - accuracy: 0.8718\n",
      "Epoch 63/100\n",
      "26/26 [==============================] - 0s 4ms/step - loss: 0.3448 - accuracy: 0.8397\n",
      "Epoch 64/100\n",
      "26/26 [==============================] - 0s 3ms/step - loss: 0.4062 - accuracy: 0.8397\n",
      "Epoch 65/100\n",
      "26/26 [==============================] - 0s 4ms/step - loss: 0.3636 - accuracy: 0.8397\n",
      "Epoch 66/100\n",
      "26/26 [==============================] - 0s 4ms/step - loss: 0.3072 - accuracy: 0.8846\n",
      "Epoch 67/100\n",
      "26/26 [==============================] - 0s 4ms/step - loss: 0.3520 - accuracy: 0.8462\n",
      "Epoch 68/100\n",
      "26/26 [==============================] - 0s 4ms/step - loss: 0.3455 - accuracy: 0.8590\n",
      "Epoch 69/100\n",
      "26/26 [==============================] - 0s 4ms/step - loss: 0.3253 - accuracy: 0.8654\n",
      "Epoch 70/100\n",
      "26/26 [==============================] - 0s 3ms/step - loss: 0.3971 - accuracy: 0.8269\n",
      "Epoch 71/100\n",
      "26/26 [==============================] - 0s 4ms/step - loss: 0.3523 - accuracy: 0.8590\n",
      "Epoch 72/100\n",
      "26/26 [==============================] - 0s 4ms/step - loss: 0.3477 - accuracy: 0.8654\n",
      "Epoch 73/100\n",
      "26/26 [==============================] - 0s 5ms/step - loss: 0.3348 - accuracy: 0.8782\n",
      "Epoch 74/100\n",
      "26/26 [==============================] - 0s 5ms/step - loss: 0.3508 - accuracy: 0.8397\n",
      "Epoch 75/100\n",
      "26/26 [==============================] - 0s 5ms/step - loss: 0.3201 - accuracy: 0.8974\n",
      "Epoch 76/100\n",
      "26/26 [==============================] - 0s 4ms/step - loss: 0.3712 - accuracy: 0.8590\n",
      "Epoch 77/100\n",
      "26/26 [==============================] - 0s 4ms/step - loss: 0.3469 - accuracy: 0.8718\n",
      "Epoch 78/100\n",
      "26/26 [==============================] - 0s 4ms/step - loss: 0.2779 - accuracy: 0.8782\n",
      "Epoch 79/100\n",
      "26/26 [==============================] - 0s 4ms/step - loss: 0.2772 - accuracy: 0.8782\n",
      "Epoch 80/100\n",
      "26/26 [==============================] - 0s 4ms/step - loss: 0.3930 - accuracy: 0.8718\n",
      "Epoch 81/100\n",
      "26/26 [==============================] - 0s 4ms/step - loss: 0.3765 - accuracy: 0.8269\n",
      "Epoch 82/100\n",
      "26/26 [==============================] - 0s 3ms/step - loss: 0.3540 - accuracy: 0.8397\n",
      "Epoch 83/100\n"
     ]
    },
    {
     "name": "stdout",
     "output_type": "stream",
     "text": [
      "26/26 [==============================] - 0s 4ms/step - loss: 0.3518 - accuracy: 0.8782\n",
      "Epoch 84/100\n",
      "26/26 [==============================] - 0s 4ms/step - loss: 0.2989 - accuracy: 0.8526\n",
      "Epoch 85/100\n",
      "26/26 [==============================] - 0s 3ms/step - loss: 0.2311 - accuracy: 0.9103\n",
      "Epoch 86/100\n",
      "26/26 [==============================] - 0s 3ms/step - loss: 0.2976 - accuracy: 0.9038\n",
      "Epoch 87/100\n",
      "26/26 [==============================] - 0s 3ms/step - loss: 0.2307 - accuracy: 0.9295\n",
      "Epoch 88/100\n",
      "26/26 [==============================] - 0s 4ms/step - loss: 0.2833 - accuracy: 0.8910\n",
      "Epoch 89/100\n",
      "26/26 [==============================] - 0s 4ms/step - loss: 0.2392 - accuracy: 0.8974\n",
      "Epoch 90/100\n",
      "26/26 [==============================] - 0s 4ms/step - loss: 0.3616 - accuracy: 0.9103\n",
      "Epoch 91/100\n",
      "26/26 [==============================] - 0s 4ms/step - loss: 0.3015 - accuracy: 0.8974\n",
      "Epoch 92/100\n",
      "26/26 [==============================] - 0s 4ms/step - loss: 0.2515 - accuracy: 0.8974\n",
      "Epoch 93/100\n",
      "26/26 [==============================] - 0s 3ms/step - loss: 0.3290 - accuracy: 0.8718\n",
      "Epoch 94/100\n",
      "26/26 [==============================] - 0s 4ms/step - loss: 0.2598 - accuracy: 0.8910\n",
      "Epoch 95/100\n",
      "26/26 [==============================] - 0s 4ms/step - loss: 0.2867 - accuracy: 0.8974\n",
      "Epoch 96/100\n",
      "26/26 [==============================] - 0s 5ms/step - loss: 0.2805 - accuracy: 0.9038\n",
      "Epoch 97/100\n",
      "26/26 [==============================] - 0s 5ms/step - loss: 0.2281 - accuracy: 0.9038\n",
      "Epoch 98/100\n",
      "26/26 [==============================] - 0s 4ms/step - loss: 0.2487 - accuracy: 0.8974\n",
      "Epoch 99/100\n",
      "26/26 [==============================] - 0s 5ms/step - loss: 0.2563 - accuracy: 0.8910\n",
      "Epoch 100/100\n",
      "26/26 [==============================] - 0s 5ms/step - loss: 0.2747 - accuracy: 0.8910\n"
     ]
    },
    {
     "data": {
      "text/plain": [
       "<tensorflow.python.keras.callbacks.History at 0x1c259745670>"
      ]
     },
     "execution_count": 82,
     "metadata": {},
     "output_type": "execute_result"
    }
   ],
   "source": [
    "modeld=keras.Sequential([\n",
    "    keras.layers.Dense(60,input_dim=60,activation='relu'),\n",
    "    keras.layers.Dropout(0.5),\n",
    "    keras.layers.Dense(30,activation='relu'),\n",
    "    keras.layers.Dropout(0.5),\n",
    "    keras.layers.Dense(15,activation='relu'),\n",
    "    keras.layers.Dropout(0.5),\n",
    "    keras.layers.Dense(1,activation='sigmoid')\n",
    "])\n",
    "\n",
    "modeld.compile(loss='binary_crossentropy',optimizer='adam',metrics=['accuracy'])\n",
    "modeld.fit(X_train,Y_train,epochs=100,batch_size=6)"
   ]
  },
  {
   "cell_type": "code",
   "execution_count": 102,
   "id": "af400f7b",
   "metadata": {},
   "outputs": [],
   "source": [
    "y_pred=modeld.predict(X_test).reshape(-1)\n",
    "y_pred=np.round(y_pred)"
   ]
  },
  {
   "cell_type": "code",
   "execution_count": 103,
   "id": "fe63207e",
   "metadata": {},
   "outputs": [
    {
     "name": "stdout",
     "output_type": "stream",
     "text": [
      "2/2 [==============================] - 0s 4ms/step - loss: 0.4720 - accuracy: 0.8269\n"
     ]
    },
    {
     "data": {
      "text/plain": [
       "[0.47198739647865295, 0.8269230723381042]"
      ]
     },
     "execution_count": 103,
     "metadata": {},
     "output_type": "execute_result"
    }
   ],
   "source": [
    "modeld.evaluate(X_test,Y_test)"
   ]
  },
  {
   "cell_type": "code",
   "execution_count": 104,
   "id": "036992d2",
   "metadata": {},
   "outputs": [
    {
     "name": "stdout",
     "output_type": "stream",
     "text": [
      "              precision    recall  f1-score   support\n",
      "\n",
      "           0       0.82      0.85      0.84        27\n",
      "           1       0.83      0.80      0.82        25\n",
      "\n",
      "    accuracy                           0.83        52\n",
      "   macro avg       0.83      0.83      0.83        52\n",
      "weighted avg       0.83      0.83      0.83        52\n",
      "\n"
     ]
    }
   ],
   "source": [
    "from sklearn.metrics import confusion_matrix,classification_report\n",
    "print(classification_report(Y_test,y_pred))"
   ]
  },
  {
   "cell_type": "code",
   "execution_count": null,
   "id": "86b1e2ca",
   "metadata": {},
   "outputs": [],
   "source": []
  }
 ],
 "metadata": {
  "kernelspec": {
   "display_name": "Python 3 (ipykernel)",
   "language": "python",
   "name": "python3"
  },
  "language_info": {
   "codemirror_mode": {
    "name": "ipython",
    "version": 3
   },
   "file_extension": ".py",
   "mimetype": "text/x-python",
   "name": "python",
   "nbconvert_exporter": "python",
   "pygments_lexer": "ipython3",
   "version": "3.11.4"
  }
 },
 "nbformat": 4,
 "nbformat_minor": 5
}
