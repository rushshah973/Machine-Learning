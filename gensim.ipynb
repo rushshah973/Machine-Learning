{
 "cells": [
  {
   "cell_type": "code",
   "execution_count": 1,
   "id": "68499ab9",
   "metadata": {},
   "outputs": [],
   "source": [
    "import gensim\n",
    "import pandas as pd"
   ]
  },
  {
   "cell_type": "code",
   "execution_count": 2,
   "id": "4bf8d5e9",
   "metadata": {},
   "outputs": [
    {
     "name": "stdout",
     "output_type": "stream",
     "text": [
      "Collecting python-Levenshtein\n",
      "  Obtaining dependency information for python-Levenshtein from https://files.pythonhosted.org/packages/ae/9c/208f8ad7eb38492ac4f829790a500bcfca88b1d0a1c988f6480a52a6f681/python_Levenshtein-0.21.1-py3-none-any.whl.metadata\n",
      "  Downloading python_Levenshtein-0.21.1-py3-none-any.whl.metadata (3.8 kB)\n",
      "Collecting Levenshtein==0.21.1 (from python-Levenshtein)\n",
      "  Obtaining dependency information for Levenshtein==0.21.1 from https://files.pythonhosted.org/packages/2c/73/e352325e05b56440cc07fca154925320d74075e56cb70250022263164ad9/Levenshtein-0.21.1-cp311-cp311-win_amd64.whl.metadata\n",
      "  Downloading Levenshtein-0.21.1-cp311-cp311-win_amd64.whl.metadata (3.5 kB)\n",
      "Collecting rapidfuzz<4.0.0,>=2.3.0 (from Levenshtein==0.21.1->python-Levenshtein)\n",
      "  Obtaining dependency information for rapidfuzz<4.0.0,>=2.3.0 from https://files.pythonhosted.org/packages/78/25/125f6a5be8f76d6c43e1a8b21fc7a58af69d820fdd961f0e48e7d47f977b/rapidfuzz-3.3.0-cp311-cp311-win_amd64.whl.metadata\n",
      "  Downloading rapidfuzz-3.3.0-cp311-cp311-win_amd64.whl.metadata (11 kB)\n",
      "Downloading python_Levenshtein-0.21.1-py3-none-any.whl (9.4 kB)\n",
      "Downloading Levenshtein-0.21.1-cp311-cp311-win_amd64.whl (101 kB)\n",
      "   ---------------------------------------- 0.0/101.4 kB ? eta -:--:--\n",
      "   ------------ --------------------------- 30.7/101.4 kB ? eta -:--:--\n",
      "   --------------------------- ----------- 71.7/101.4 kB 975.2 kB/s eta 0:00:01\n",
      "   -------------------------------------- 101.4/101.4 kB 970.0 kB/s eta 0:00:00\n",
      "Downloading rapidfuzz-3.3.0-cp311-cp311-win_amd64.whl (1.8 MB)\n",
      "   ---------------------------------------- 0.0/1.8 MB ? eta -:--:--\n",
      "   - -------------------------------------- 0.1/1.8 MB ? eta -:--:--\n",
      "   - -------------------------------------- 0.1/1.8 MB ? eta -:--:--\n",
      "   -- ------------------------------------- 0.1/1.8 MB 1.4 MB/s eta 0:00:02\n",
      "   --- ------------------------------------ 0.2/1.8 MB 1.5 MB/s eta 0:00:02\n",
      "   ----- ---------------------------------- 0.3/1.8 MB 1.4 MB/s eta 0:00:02\n",
      "   ------ --------------------------------- 0.3/1.8 MB 1.4 MB/s eta 0:00:02\n",
      "   -------- ------------------------------- 0.4/1.8 MB 1.4 MB/s eta 0:00:02\n",
      "   --------- ------------------------------ 0.5/1.8 MB 1.5 MB/s eta 0:00:01\n",
      "   ----------- ---------------------------- 0.5/1.8 MB 1.5 MB/s eta 0:00:01\n",
      "   ------------ --------------------------- 0.6/1.8 MB 1.4 MB/s eta 0:00:01\n",
      "   -------------- ------------------------- 0.7/1.8 MB 1.5 MB/s eta 0:00:01\n",
      "   --------------- ------------------------ 0.7/1.8 MB 1.5 MB/s eta 0:00:01\n",
      "   ----------------- ---------------------- 0.8/1.8 MB 1.5 MB/s eta 0:00:01\n",
      "   ------------------- -------------------- 0.9/1.8 MB 1.5 MB/s eta 0:00:01\n",
      "   --------------------- ------------------ 1.0/1.8 MB 1.5 MB/s eta 0:00:01\n",
      "   ------------------------ --------------- 1.1/1.8 MB 1.6 MB/s eta 0:00:01\n",
      "   -------------------------- ------------- 1.2/1.8 MB 1.6 MB/s eta 0:00:01\n",
      "   ---------------------------- ----------- 1.3/1.8 MB 1.7 MB/s eta 0:00:01\n",
      "   ------------------------------ --------- 1.4/1.8 MB 1.7 MB/s eta 0:00:01\n",
      "   ---------------------------------- ----- 1.6/1.8 MB 1.8 MB/s eta 0:00:01\n",
      "   ---------------------------------- ----- 1.6/1.8 MB 1.8 MB/s eta 0:00:01\n",
      "   -------------------------------------- - 1.8/1.8 MB 1.8 MB/s eta 0:00:01\n",
      "   ---------------------------------------- 1.8/1.8 MB 1.8 MB/s eta 0:00:00\n",
      "Installing collected packages: rapidfuzz, Levenshtein, python-Levenshtein\n",
      "Successfully installed Levenshtein-0.21.1 python-Levenshtein-0.21.1 rapidfuzz-3.3.0\n",
      "Note: you may need to restart the kernel to use updated packages.\n"
     ]
    }
   ],
   "source": [
    "pip install python-Levenshtein"
   ]
  },
  {
   "cell_type": "code",
   "execution_count": 6,
   "id": "6d9b0a4d",
   "metadata": {},
   "outputs": [],
   "source": [
    "df=pd.read_json(\"reviews_Cell_Phones_and_Accessories_5.json\",lines=True)"
   ]
  },
  {
   "cell_type": "code",
   "execution_count": 7,
   "id": "82556c55",
   "metadata": {},
   "outputs": [
    {
     "data": {
      "text/html": [
       "<div>\n",
       "<style scoped>\n",
       "    .dataframe tbody tr th:only-of-type {\n",
       "        vertical-align: middle;\n",
       "    }\n",
       "\n",
       "    .dataframe tbody tr th {\n",
       "        vertical-align: top;\n",
       "    }\n",
       "\n",
       "    .dataframe thead th {\n",
       "        text-align: right;\n",
       "    }\n",
       "</style>\n",
       "<table border=\"1\" class=\"dataframe\">\n",
       "  <thead>\n",
       "    <tr style=\"text-align: right;\">\n",
       "      <th></th>\n",
       "      <th>reviewerID</th>\n",
       "      <th>asin</th>\n",
       "      <th>reviewerName</th>\n",
       "      <th>helpful</th>\n",
       "      <th>reviewText</th>\n",
       "      <th>overall</th>\n",
       "      <th>summary</th>\n",
       "      <th>unixReviewTime</th>\n",
       "      <th>reviewTime</th>\n",
       "    </tr>\n",
       "  </thead>\n",
       "  <tbody>\n",
       "    <tr>\n",
       "      <th>0</th>\n",
       "      <td>A30TL5EWN6DFXT</td>\n",
       "      <td>120401325X</td>\n",
       "      <td>christina</td>\n",
       "      <td>[0, 0]</td>\n",
       "      <td>They look good and stick good! I just don't li...</td>\n",
       "      <td>4</td>\n",
       "      <td>Looks Good</td>\n",
       "      <td>1400630400</td>\n",
       "      <td>05 21, 2014</td>\n",
       "    </tr>\n",
       "    <tr>\n",
       "      <th>1</th>\n",
       "      <td>ASY55RVNIL0UD</td>\n",
       "      <td>120401325X</td>\n",
       "      <td>emily l.</td>\n",
       "      <td>[0, 0]</td>\n",
       "      <td>These stickers work like the review says they ...</td>\n",
       "      <td>5</td>\n",
       "      <td>Really great product.</td>\n",
       "      <td>1389657600</td>\n",
       "      <td>01 14, 2014</td>\n",
       "    </tr>\n",
       "    <tr>\n",
       "      <th>2</th>\n",
       "      <td>A2TMXE2AFO7ONB</td>\n",
       "      <td>120401325X</td>\n",
       "      <td>Erica</td>\n",
       "      <td>[0, 0]</td>\n",
       "      <td>These are awesome and make my phone look so st...</td>\n",
       "      <td>5</td>\n",
       "      <td>LOVE LOVE LOVE</td>\n",
       "      <td>1403740800</td>\n",
       "      <td>06 26, 2014</td>\n",
       "    </tr>\n",
       "    <tr>\n",
       "      <th>3</th>\n",
       "      <td>AWJ0WZQYMYFQ4</td>\n",
       "      <td>120401325X</td>\n",
       "      <td>JM</td>\n",
       "      <td>[4, 4]</td>\n",
       "      <td>Item arrived in great time and was in perfect ...</td>\n",
       "      <td>4</td>\n",
       "      <td>Cute!</td>\n",
       "      <td>1382313600</td>\n",
       "      <td>10 21, 2013</td>\n",
       "    </tr>\n",
       "    <tr>\n",
       "      <th>4</th>\n",
       "      <td>ATX7CZYFXI1KW</td>\n",
       "      <td>120401325X</td>\n",
       "      <td>patrice m rogoza</td>\n",
       "      <td>[2, 3]</td>\n",
       "      <td>awesome! stays on, and looks great. can be use...</td>\n",
       "      <td>5</td>\n",
       "      <td>leopard home button sticker for iphone 4s</td>\n",
       "      <td>1359849600</td>\n",
       "      <td>02 3, 2013</td>\n",
       "    </tr>\n",
       "  </tbody>\n",
       "</table>\n",
       "</div>"
      ],
      "text/plain": [
       "       reviewerID        asin      reviewerName helpful  \\\n",
       "0  A30TL5EWN6DFXT  120401325X         christina  [0, 0]   \n",
       "1   ASY55RVNIL0UD  120401325X          emily l.  [0, 0]   \n",
       "2  A2TMXE2AFO7ONB  120401325X             Erica  [0, 0]   \n",
       "3   AWJ0WZQYMYFQ4  120401325X                JM  [4, 4]   \n",
       "4   ATX7CZYFXI1KW  120401325X  patrice m rogoza  [2, 3]   \n",
       "\n",
       "                                          reviewText  overall  \\\n",
       "0  They look good and stick good! I just don't li...        4   \n",
       "1  These stickers work like the review says they ...        5   \n",
       "2  These are awesome and make my phone look so st...        5   \n",
       "3  Item arrived in great time and was in perfect ...        4   \n",
       "4  awesome! stays on, and looks great. can be use...        5   \n",
       "\n",
       "                                     summary  unixReviewTime   reviewTime  \n",
       "0                                 Looks Good      1400630400  05 21, 2014  \n",
       "1                      Really great product.      1389657600  01 14, 2014  \n",
       "2                             LOVE LOVE LOVE      1403740800  06 26, 2014  \n",
       "3                                      Cute!      1382313600  10 21, 2013  \n",
       "4  leopard home button sticker for iphone 4s      1359849600   02 3, 2013  "
      ]
     },
     "execution_count": 7,
     "metadata": {},
     "output_type": "execute_result"
    }
   ],
   "source": [
    "df.head()"
   ]
  },
  {
   "cell_type": "code",
   "execution_count": 10,
   "id": "55fb0bea",
   "metadata": {},
   "outputs": [
    {
     "data": {
      "text/plain": [
       "\"They look good and stick good! I just don't like the rounded shape because I was always bumping it and Siri kept popping up and it was irritating. I just won't buy a product like this again\""
      ]
     },
     "execution_count": 10,
     "metadata": {},
     "output_type": "execute_result"
    }
   ],
   "source": [
    "df.reviewText[0]"
   ]
  },
  {
   "cell_type": "code",
   "execution_count": 16,
   "id": "5965b985",
   "metadata": {},
   "outputs": [],
   "source": [
    "review_text=df.reviewText.apply(gensim.utils.simple_preprocess)"
   ]
  },
  {
   "cell_type": "code",
   "execution_count": 17,
   "id": "2c962b30",
   "metadata": {},
   "outputs": [
    {
     "data": {
      "text/plain": [
       "0         [they, look, good, and, stick, good, just, don...\n",
       "1         [these, stickers, work, like, the, review, say...\n",
       "2         [these, are, awesome, and, make, my, phone, lo...\n",
       "3         [item, arrived, in, great, time, and, was, in,...\n",
       "4         [awesome, stays, on, and, looks, great, can, b...\n",
       "                                ...                        \n",
       "194434    [works, great, just, like, my, original, one, ...\n",
       "194435    [great, product, great, packaging, high, quali...\n",
       "194436    [this, is, great, cable, just, as, good, as, t...\n",
       "194437    [really, like, it, becasue, it, works, well, w...\n",
       "194438    [product, as, described, have, wasted, lot, of...\n",
       "Name: reviewText, Length: 194439, dtype: object"
      ]
     },
     "execution_count": 17,
     "metadata": {},
     "output_type": "execute_result"
    }
   ],
   "source": [
    "review_text"
   ]
  },
  {
   "cell_type": "code",
   "execution_count": 18,
   "id": "0e379c4c",
   "metadata": {},
   "outputs": [],
   "source": [
    "model =gensim.models.Word2Vec(\n",
    "    window=10,\n",
    "    min_count=2,\n",
    "    workers=4\n",
    ")"
   ]
  },
  {
   "cell_type": "code",
   "execution_count": 19,
   "id": "54f979af",
   "metadata": {},
   "outputs": [],
   "source": [
    "model.build_vocab(review_text,progress_per=1000)"
   ]
  },
  {
   "cell_type": "code",
   "execution_count": 20,
   "id": "bab713cb",
   "metadata": {},
   "outputs": [
    {
     "data": {
      "text/plain": [
       "5"
      ]
     },
     "execution_count": 20,
     "metadata": {},
     "output_type": "execute_result"
    }
   ],
   "source": [
    "model.epochs"
   ]
  },
  {
   "cell_type": "code",
   "execution_count": 21,
   "id": "5b636726",
   "metadata": {},
   "outputs": [
    {
     "data": {
      "text/plain": [
       "(61500899, 83868975)"
      ]
     },
     "execution_count": 21,
     "metadata": {},
     "output_type": "execute_result"
    }
   ],
   "source": [
    "model.train(review_text,total_examples=model.corpus_count,epochs=model.epochs)"
   ]
  },
  {
   "cell_type": "code",
   "execution_count": 23,
   "id": "6fccb3d8",
   "metadata": {},
   "outputs": [],
   "source": [
    "model.save(\"./word2vec-amazon.model\")"
   ]
  },
  {
   "cell_type": "code",
   "execution_count": 28,
   "id": "40917791",
   "metadata": {},
   "outputs": [
    {
     "data": {
      "text/plain": [
       "[('isn', 0.5696970224380493),\n",
       " ('wasn', 0.5052962303161621),\n",
       " ('trick', 0.49564605951309204),\n",
       " ('indeed', 0.48559796810150146),\n",
       " ('neither', 0.4657997488975525),\n",
       " ('isnt', 0.4241146445274353),\n",
       " ('job', 0.4165792763233185),\n",
       " ('suppose', 0.40908554196357727),\n",
       " ('wasnt', 0.4053593873977661),\n",
       " ('nor', 0.4027723968029022)]"
      ]
     },
     "execution_count": 28,
     "metadata": {},
     "output_type": "execute_result"
    }
   ],
   "source": [
    "model.wv.most_similar(\"not\")"
   ]
  },
  {
   "cell_type": "code",
   "execution_count": 32,
   "id": "6c86cdf1",
   "metadata": {},
   "outputs": [
    {
     "data": {
      "text/plain": [
       "0.07878344"
      ]
     },
     "execution_count": 32,
     "metadata": {},
     "output_type": "execute_result"
    }
   ],
   "source": [
    "model.wv.similarity(w1=\"god\",w2=\"spirit\")"
   ]
  },
  {
   "cell_type": "code",
   "execution_count": 33,
   "id": "3c0b4891",
   "metadata": {},
   "outputs": [
    {
     "data": {
      "text/plain": [
       "0.7367888"
      ]
     },
     "execution_count": 33,
     "metadata": {},
     "output_type": "execute_result"
    }
   ],
   "source": [
    "model.wv.similarity(w1=\"great\",w2=\"awesome\")"
   ]
  },
  {
   "cell_type": "code",
   "execution_count": null,
   "id": "01efe315",
   "metadata": {},
   "outputs": [],
   "source": []
  }
 ],
 "metadata": {
  "kernelspec": {
   "display_name": "Python 3 (ipykernel)",
   "language": "python",
   "name": "python3"
  },
  "language_info": {
   "codemirror_mode": {
    "name": "ipython",
    "version": 3
   },
   "file_extension": ".py",
   "mimetype": "text/x-python",
   "name": "python",
   "nbconvert_exporter": "python",
   "pygments_lexer": "ipython3",
   "version": "3.11.4"
  }
 },
 "nbformat": 4,
 "nbformat_minor": 5
}
